{
 "cells": [
  {
   "cell_type": "code",
   "execution_count": 3,
   "id": "7357010b",
   "metadata": {
    "ExecuteTime": {
     "end_time": "2021-04-08T13:00:24.113997Z",
     "start_time": "2021-04-08T13:00:23.117011Z"
    }
   },
   "outputs": [],
   "source": [
    "from sklearn.datasets import make_classification"
   ]
  },
  {
   "cell_type": "code",
   "execution_count": 4,
   "id": "1812a9fb",
   "metadata": {
    "ExecuteTime": {
     "end_time": "2021-04-08T13:00:35.016739Z",
     "start_time": "2021-04-08T13:00:35.012946Z"
    }
   },
   "outputs": [],
   "source": [
    "X, y = make_classification()"
   ]
  },
  {
   "cell_type": "code",
   "execution_count": 5,
   "id": "68607270",
   "metadata": {
    "ExecuteTime": {
     "end_time": "2021-04-08T13:00:36.280668Z",
     "start_time": "2021-04-08T13:00:36.270353Z"
    }
   },
   "outputs": [
    {
     "data": {
      "text/plain": [
       "array([[-1.23499541, -0.41581455,  0.21871832, ...,  2.11639725,\n",
       "        -0.17233462,  0.67372776],\n",
       "       [-0.06330087,  1.24847717,  0.33109381, ...,  0.32965223,\n",
       "        -0.27445144, -1.19910436],\n",
       "       [ 0.37821701, -1.21882594, -0.65504497, ..., -0.19782153,\n",
       "        -0.45265821,  1.84317076],\n",
       "       ...,\n",
       "       [-1.66842574, -0.0430457 , -0.93776859, ..., -0.16182779,\n",
       "        -0.52162634,  0.22388922],\n",
       "       [-1.21285048, -1.17414661, -0.56081892, ..., -1.27365384,\n",
       "         0.57134915, -0.21278624],\n",
       "       [-0.30011453,  1.09654838, -0.93014335, ...,  1.08848414,\n",
       "        -0.07341673,  0.59424939]])"
      ]
     },
     "execution_count": 5,
     "metadata": {},
     "output_type": "execute_result"
    }
   ],
   "source": [
    "X"
   ]
  },
  {
   "cell_type": "code",
   "execution_count": 6,
   "id": "f51981f8",
   "metadata": {
    "ExecuteTime": {
     "end_time": "2021-04-08T13:00:38.098127Z",
     "start_time": "2021-04-08T13:00:38.094144Z"
    }
   },
   "outputs": [
    {
     "data": {
      "text/plain": [
       "array([1, 0, 0, 1, 1, 1, 1, 0, 1, 0, 1, 1, 0, 0, 1, 0, 1, 0, 1, 0, 0, 0,\n",
       "       0, 0, 0, 1, 1, 1, 1, 0, 0, 0, 0, 1, 1, 0, 1, 1, 1, 1, 0, 1, 0, 0,\n",
       "       1, 0, 1, 0, 1, 1, 1, 1, 0, 1, 0, 1, 1, 1, 1, 0, 1, 1, 0, 0, 0, 0,\n",
       "       1, 1, 1, 0, 0, 0, 1, 1, 0, 1, 1, 0, 0, 0, 0, 1, 0, 1, 0, 0, 1, 1,\n",
       "       0, 0, 0, 0, 1, 1, 0, 1, 1, 0, 0, 0])"
      ]
     },
     "execution_count": 6,
     "metadata": {},
     "output_type": "execute_result"
    }
   ],
   "source": [
    "y"
   ]
  },
  {
   "cell_type": "code",
   "execution_count": 7,
   "id": "c2f5cb6c",
   "metadata": {
    "ExecuteTime": {
     "end_time": "2021-04-08T13:01:16.567961Z",
     "start_time": "2021-04-08T13:01:15.808203Z"
    }
   },
   "outputs": [],
   "source": [
    "from sklearn.linear_model import LogisticRegression"
   ]
  },
  {
   "cell_type": "code",
   "execution_count": 8,
   "id": "bd67dbb4",
   "metadata": {
    "ExecuteTime": {
     "end_time": "2021-04-08T13:01:26.427426Z",
     "start_time": "2021-04-08T13:01:26.425154Z"
    }
   },
   "outputs": [],
   "source": [
    "est = LogisticRegression()"
   ]
  },
  {
   "cell_type": "code",
   "execution_count": 12,
   "id": "aba5131c",
   "metadata": {
    "ExecuteTime": {
     "end_time": "2021-04-08T13:01:51.190610Z",
     "start_time": "2021-04-08T13:01:51.177533Z"
    }
   },
   "outputs": [
    {
     "data": {
      "text/plain": [
       "LogisticRegression()"
      ]
     },
     "execution_count": 12,
     "metadata": {},
     "output_type": "execute_result"
    }
   ],
   "source": [
    "est.fit(X, y)"
   ]
  },
  {
   "cell_type": "code",
   "execution_count": 15,
   "id": "67a14081",
   "metadata": {
    "ExecuteTime": {
     "end_time": "2021-04-08T13:03:20.818022Z",
     "start_time": "2021-04-08T13:03:20.815491Z"
    }
   },
   "outputs": [],
   "source": [
    "from pickle import load, dump"
   ]
  },
  {
   "cell_type": "code",
   "execution_count": 17,
   "id": "f632771b",
   "metadata": {
    "ExecuteTime": {
     "end_time": "2021-04-08T13:04:29.308641Z",
     "start_time": "2021-04-08T13:04:29.304417Z"
    }
   },
   "outputs": [],
   "source": [
    "dump(est, open('./model.pkl', 'wb'))"
   ]
  },
  {
   "cell_type": "code",
   "execution_count": null,
   "id": "58b99da8",
   "metadata": {},
   "outputs": [],
   "source": []
  }
 ],
 "metadata": {
  "kernelspec": {
   "display_name": "Python 3",
   "language": "python",
   "name": "python3"
  },
  "language_info": {
   "codemirror_mode": {
    "name": "ipython",
    "version": 3
   },
   "file_extension": ".py",
   "mimetype": "text/x-python",
   "name": "python",
   "nbconvert_exporter": "python",
   "pygments_lexer": "ipython3",
   "version": "3.7.1"
  },
  "toc": {
   "base_numbering": 1,
   "nav_menu": {},
   "number_sections": true,
   "sideBar": true,
   "skip_h1_title": false,
   "title_cell": "Table of Contents",
   "title_sidebar": "Contents",
   "toc_cell": false,
   "toc_position": {},
   "toc_section_display": true,
   "toc_window_display": false
  }
 },
 "nbformat": 4,
 "nbformat_minor": 5
}
